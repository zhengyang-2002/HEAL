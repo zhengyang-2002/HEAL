{
 "cells": [
  {
   "cell_type": "code",
   "execution_count": 1,
   "id": "dd39de4f-8c0a-42da-b46b-ba312d6e9800",
   "metadata": {
    "scrolled": true
   },
   "outputs": [],
   "source": [
    "import definition\n",
    "from definition import ModelLoader\n",
    "\n",
    "import os\n",
    "import torch\n",
    "import Prompt\n",
    "from openai import OpenAI\n",
    "from peft import LoraConfig, get_peft_model, PeftModel, PeftConfig\n",
    "from transformers import LlamaForCausalLM, pipeline, LlamaTokenizer, AutoTokenizer, AutoModel, AutoModelForCausalLM"
   ]
  },
  {
   "cell_type": "code",
   "execution_count": 2,
   "id": "f0825583-884c-455c-b85c-29a0b5a9b3a1",
   "metadata": {},
   "outputs": [
    {
     "name": "stdout",
     "output_type": "stream",
     "text": [
      "已分配至空闲GPU：cuda:0\n"
     ]
    },
    {
     "data": {
      "application/vnd.jupyter.widget-view+json": {
       "model_id": "718aa912acd443a09c0ce421bc3d167e",
       "version_major": 2,
       "version_minor": 0
      },
      "text/plain": [
       "Loading checkpoint shards:   0%|          | 0/4 [00:00<?, ?it/s]"
      ]
     },
     "metadata": {},
     "output_type": "display_data"
    },
    {
     "name": "stdout",
     "output_type": "stream",
     "text": [
      "正在合并Lora结构，路径:/root/LLaMA-Factory/src/saves/Qwen2-7B/lora/3st-roleSwitch/checkpoint-1715/\n"
     ]
    }
   ],
   "source": [
    "llama_3=ModelLoader('/root/autodl-tmp/weights/Qwen2-7B/', '/root/LLaMA-Factory/src/saves/Qwen2-7B/lora/3st-roleSwitch/checkpoint-1715/', '现在请你扮演一个有心理问题，需要帮助的心理求助者，你正在和心理医生对话。请直接描述你的心理问题，不要透露你现在正在扮演，不要说无关心理咨询的话。')"
   ]
  },
  {
   "cell_type": "code",
   "execution_count": 3,
   "id": "9fe435c1-dcbe-4a75-94a6-eafaa097146e",
   "metadata": {},
   "outputs": [
    {
     "data": {
      "text/plain": [
       "'我是一个20岁的女生，最近我发现自己有社交恐惧症，而且我感觉自己是个社交恐惧症患者。'"
      ]
     },
     "execution_count": 3,
     "metadata": {},
     "output_type": "execute_result"
    }
   ],
   "source": [
    "llama_3.chat('你好，我是你的心理医生。有什么可以帮你？')"
   ]
  },
  {
   "cell_type": "code",
   "execution_count": 3,
   "id": "33e79cfb-b5e6-40de-8ad9-3b04b3735e56",
   "metadata": {},
   "outputs": [
    {
     "data": {
      "application/vnd.jupyter.widget-view+json": {
       "model_id": "ca9fb572f9e140db8c5e50bb4c2c8a53",
       "version_major": 2,
       "version_minor": 0
      },
      "text/plain": [
       "Loading checkpoint shards:   0%|          | 0/4 [00:00<?, ?it/s]"
      ]
     },
     "metadata": {},
     "output_type": "display_data"
    }
   ],
   "source": [
    "lora_model=merge_lora('/root/autodl-tmp/weights/Qwen2-7B', '/root/LLaMA-Factory/src/saves/Qwen2-7B/lora/3st-roleSwitch/checkpoint-1715/')"
   ]
  },
  {
   "cell_type": "code",
   "execution_count": 4,
   "id": "2d332aa3-6570-4a03-8376-e9cb3d0f4773",
   "metadata": {},
   "outputs": [],
   "source": [
    "tokenizer = AutoTokenizer.from_pretrained('/root/autodl-tmp/weights/Qwen2-7B', trust_remote_code=True, legacy=False)"
   ]
  },
  {
   "cell_type": "code",
   "execution_count": 5,
   "id": "68ea11b8-607f-4744-8976-5eee90ae7e65",
   "metadata": {},
   "outputs": [],
   "source": [
    "pipeline_instance = pipeline(\n",
    "    \"text-generation\",\n",
    "    model=lora_model,\n",
    "    tokenizer=tokenizer,\n",
    "    device='cuda',\n",
    "    do_sample=True,\n",
    "    temperature=0.7\n",
    ")"
   ]
  },
  {
   "cell_type": "code",
   "execution_count": 9,
   "id": "e328e6f4-b612-4b32-b876-f6cfcce3d0ec",
   "metadata": {},
   "outputs": [],
   "source": [
    "outputs=pipeline_instance([{\"role\": \"user\", \"content\": '你好，我是你的心理治疗师，请问有什么可以帮你？'}], max_new_tokens=1024)"
   ]
  },
  {
   "cell_type": "code",
   "execution_count": 10,
   "id": "82b87b3a-2224-4032-bf32-f3d2d4a16219",
   "metadata": {},
   "outputs": [
    {
     "data": {
      "text/plain": [
       "[{'generated_text': [{'role': 'user', 'content': '你好，我是你的心理治疗师，请问有什么可以帮你？'},\n",
       "   {'role': 'assistant',\n",
       "    'content': '我16岁女生，感觉自己有焦虑症，现在不知道该怎么办了。从初三开始，我就感觉和别人不一样了。我开始变得很消极，对生活失去兴趣，感到很痛苦。我意识到我可能有焦虑症。在家里，我总是感到闷闷不乐，不开心，对什么都没有兴趣。我不敢和父母说，怕他们不理解。我开始变得沉默寡言，对很多事情都提不起兴趣。我感到很烦，很痛苦。我想要改变，但我找不到办法，感到很绝望。我怕这个焦虑症会一直困扰我，影响我的生活。我真的不知道该怎么办了。'}]}]"
      ]
     },
     "execution_count": 10,
     "metadata": {},
     "output_type": "execute_result"
    }
   ],
   "source": [
    "outputs"
   ]
  },
  {
   "cell_type": "code",
   "execution_count": 8,
   "id": "1d2068da-d349-439a-bb97-36317a3d3337",
   "metadata": {},
   "outputs": [
    {
     "ename": "NameError",
     "evalue": "name 'aaa' is not defined",
     "output_type": "error",
     "traceback": [
      "\u001b[0;31m---------------------------------------------------------------------------\u001b[0m",
      "\u001b[0;31mNameError\u001b[0m                                 Traceback (most recent call last)",
      "Cell \u001b[0;32mIn[8], line 1\u001b[0m\n\u001b[0;32m----> 1\u001b[0m \u001b[43maaa\u001b[49m\n",
      "\u001b[0;31mNameError\u001b[0m: name 'aaa' is not defined"
     ]
    }
   ],
   "source": [
    "aaa"
   ]
  },
  {
   "cell_type": "code",
   "execution_count": null,
   "id": "25c3fce7-d5a2-4b5e-8d20-4951db2e5f8e",
   "metadata": {},
   "outputs": [],
   "source": [
    "def conduct_dialogue(patient: ModelLoader, doctor: ModelLoader, rounds: int) -> list:\n",
    "    \"\"\"\n",
    "    让求助者和心理医生进行对话，并记录对话过程。\n",
    "\n",
    "    :param patient: 扮演求助者的 ModelLoader 实例\n",
    "    :param doctor: 扮演心理医生的 ModelLoader 实例\n",
    "    :param rounds: 对话的轮次\n",
    "    :return: 记录对话过程的列表，格式为 [<求助者>, <心理医生>, <求助者>, <心理医生>, ...]\n",
    "    \"\"\"\n",
    "    dialogue_history = []  # 用于记录对话过程\n",
    "    doctor_reply = \"\"  # 初始输入为空\n",
    "\n",
    "    for _ in range(rounds):\n",
    "        # 求助者发言\n",
    "        patient_query = patient.chat(doctor_reply)\n",
    "        dialogue_history.append(f\"<求助者>{patient_query}\")\n",
    "\n",
    "        # 心理医生回复\n",
    "        doctor_reply = doctor.chat(patient_query)\n",
    "        dialogue_history.append(f\"<心理医生>{doctor_reply}\")\n",
    "\n",
    "    return dialogue_history"
   ]
  },
  {
   "cell_type": "code",
   "execution_count": null,
   "id": "f56da928-9362-48e8-97d3-565ed1d4a543",
   "metadata": {},
   "outputs": [],
   "source": [
    "llama_3=ModelLoader('/root/autodl-tmp/weights/llama3.1-8B-chat', '现在请你扮演一个有心理问题，需要帮助的心理求助者，你正在和心理医生对话。请直接描述你的心理问题，不要透露你现在正在扮演，不要说无关心理咨询的话。')\n",
    "qwen_2=ModelLoader('/root/autodl-tmp/weights/Qwen2-7B-Chat', '你现在是一个心理医生，正在和患者进行对话')"
   ]
  },
  {
   "cell_type": "code",
   "execution_count": null,
   "id": "9d9daf51-48c8-4b74-8575-db3bac0e37ad",
   "metadata": {},
   "outputs": [],
   "source": [
    "%%time\n",
    "# 进行 3 轮对话\n",
    "dialogue = conduct_dialogue(llama_3, qwen_2, rounds=10)\n",
    "\n",
    "# 打印对话记录\n",
    "for line in dialogue:\n",
    "    print(line)"
   ]
  },
  {
   "cell_type": "code",
   "execution_count": null,
   "id": "69362e7c-70dd-4503-b123-95f2b55709a1",
   "metadata": {},
   "outputs": [],
   "source": []
  }
 ],
 "metadata": {
  "kernelspec": {
   "display_name": "Python 3 (ipykernel)",
   "language": "python",
   "name": "python3"
  },
  "language_info": {
   "codemirror_mode": {
    "name": "ipython",
    "version": 3
   },
   "file_extension": ".py",
   "mimetype": "text/x-python",
   "name": "python",
   "nbconvert_exporter": "python",
   "pygments_lexer": "ipython3",
   "version": "3.12.3"
  }
 },
 "nbformat": 4,
 "nbformat_minor": 5
}
